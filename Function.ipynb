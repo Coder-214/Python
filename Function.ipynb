{
  "nbformat": 4,
  "nbformat_minor": 0,
  "metadata": {
    "colab": {
      "provenance": [],
      "authorship_tag": "ABX9TyOErSiBB9sVNWNSrwwSUZNq",
      "include_colab_link": true
    },
    "kernelspec": {
      "name": "python3",
      "display_name": "Python 3"
    },
    "language_info": {
      "name": "python"
    }
  },
  "cells": [
    {
      "cell_type": "markdown",
      "metadata": {
        "id": "view-in-github",
        "colab_type": "text"
      },
      "source": [
        "<a href=\"https://colab.research.google.com/github/Coder-214/Python/blob/main/Function.ipynb\" target=\"_parent\"><img src=\"https://colab.research.google.com/assets/colab-badge.svg\" alt=\"Open In Colab\"/></a>"
      ]
    },
    {
      "cell_type": "code",
      "execution_count": 1,
      "metadata": {
        "id": "xxd1sPsmYaIM"
      },
      "outputs": [],
      "source": [
        "def hello_func():\n",
        "  pass\n",
        "\n",
        "hello_func()"
      ]
    },
    {
      "cell_type": "code",
      "source": [
        "def hello_func():\n",
        "  print('Hello function')\n",
        "\n",
        "hello_func()"
      ],
      "metadata": {
        "colab": {
          "base_uri": "https://localhost:8080/"
        },
        "id": "J6szRrwoZOGm",
        "outputId": "1827c92e-d142-4df5-fe04-9288fa1e235a"
      },
      "execution_count": 2,
      "outputs": [
        {
          "output_type": "stream",
          "name": "stdout",
          "text": [
            "Hello function\n"
          ]
        }
      ]
    },
    {
      "cell_type": "code",
      "source": [
        "def hello_func():\n",
        "  print('Hello function')\n",
        "\n",
        "hello_func"
      ],
      "metadata": {
        "colab": {
          "base_uri": "https://localhost:8080/"
        },
        "id": "sMys6VZ_Zcng",
        "outputId": "8a2fb1c6-ddad-4256-bcdd-736aec4b96fb"
      },
      "execution_count": 2,
      "outputs": [
        {
          "output_type": "execute_result",
          "data": {
            "text/plain": [
              "<function __main__.hello_func()>"
            ]
          },
          "metadata": {},
          "execution_count": 2
        }
      ]
    },
    {
      "cell_type": "code",
      "source": [
        "def hello_func():\n",
        "  return 'Hello function!'"
      ],
      "metadata": {
        "id": "gE7pz585as7O"
      },
      "execution_count": 4,
      "outputs": []
    },
    {
      "cell_type": "code",
      "source": [
        "def hello_func():\n",
        "  return 'Hello function!'\n",
        "\n",
        "hello_func().upper()"
      ],
      "metadata": {
        "colab": {
          "base_uri": "https://localhost:8080/",
          "height": 35
        },
        "id": "ir1s_YBubgrr",
        "outputId": "e8ef9a0a-3b5e-4d2e-e4fe-c99922f4e370"
      },
      "execution_count": 8,
      "outputs": [
        {
          "output_type": "execute_result",
          "data": {
            "text/plain": [
              "'HELLO FUNCTION!'"
            ],
            "application/vnd.google.colaboratory.intrinsic+json": {
              "type": "string"
            }
          },
          "metadata": {},
          "execution_count": 8
        }
      ]
    },
    {
      "cell_type": "code",
      "source": [
        "def hello_func(greeting):\n",
        "  return '{} function!'.format(greeting)\n",
        "\n",
        "hello_func('Hi')"
      ],
      "metadata": {
        "colab": {
          "base_uri": "https://localhost:8080/",
          "height": 35
        },
        "id": "A8tB-j75aYNk",
        "outputId": "237efd66-82fd-4327-c027-2dccec01e14b"
      },
      "execution_count": 7,
      "outputs": [
        {
          "output_type": "execute_result",
          "data": {
            "text/plain": [
              "'Hi function!'"
            ],
            "application/vnd.google.colaboratory.intrinsic+json": {
              "type": "string"
            }
          },
          "metadata": {},
          "execution_count": 7
        }
      ]
    },
    {
      "cell_type": "code",
      "source": [
        "def hello_func(greeting, name):\n",
        "  return('{}, {}'.format(greeting, name))\n",
        "\n",
        "hello_func('Assalomu alaykum, ', 'Xurshid')"
      ],
      "metadata": {
        "colab": {
          "base_uri": "https://localhost:8080/",
          "height": 35
        },
        "id": "4WhxqV1zcs0d",
        "outputId": "f5b6d9c9-0a18-4cb0-90c5-6edec92c4143"
      },
      "execution_count": 10,
      "outputs": [
        {
          "output_type": "execute_result",
          "data": {
            "text/plain": [
              "'Assalomu alaykum, , Xurshid'"
            ],
            "application/vnd.google.colaboratory.intrinsic+json": {
              "type": "string"
            }
          },
          "metadata": {},
          "execution_count": 10
        }
      ]
    },
    {
      "cell_type": "code",
      "source": [
        "def student_info(*args, **kwargs):\n",
        "  print(args)\n",
        "  print(kwargs)\n",
        "\n",
        "student_info()"
      ],
      "metadata": {
        "colab": {
          "base_uri": "https://localhost:8080/"
        },
        "id": "eP5feroGd5V2",
        "outputId": "79d98652-5035-4bd1-8320-c10680f69a97"
      },
      "execution_count": 12,
      "outputs": [
        {
          "output_type": "stream",
          "name": "stdout",
          "text": [
            "()\n",
            "{}\n"
          ]
        }
      ]
    },
    {
      "cell_type": "code",
      "source": [
        "student_info('Math', 'Art', name='Anvar', age=20)"
      ],
      "metadata": {
        "colab": {
          "base_uri": "https://localhost:8080/"
        },
        "id": "AfSTnQ-7eZsd",
        "outputId": "96844f1a-1b0a-4931-b1c3-c8f6383e00e9"
      },
      "execution_count": 13,
      "outputs": [
        {
          "output_type": "stream",
          "name": "stdout",
          "text": [
            "('Math', 'Art')\n",
            "{'name': 'Anvar', 'age': 20}\n"
          ]
        }
      ]
    },
    {
      "cell_type": "code",
      "source": [
        "courses = ['Math', 'Art']\n",
        "info = {'name': 'Anvar', 'age': 20}\n",
        "\n",
        "student_info(courses, info)"
      ],
      "metadata": {
        "colab": {
          "base_uri": "https://localhost:8080/"
        },
        "id": "vqmnMW5jfK4J",
        "outputId": "e8d626ad-a567-489d-ca11-98e0a99c7dde"
      },
      "execution_count": 14,
      "outputs": [
        {
          "output_type": "stream",
          "name": "stdout",
          "text": [
            "(['Math', 'Art'], {'name': 'Anvar', 'age': 20})\n",
            "{}\n"
          ]
        }
      ]
    },
    {
      "cell_type": "code",
      "source": [
        "student_info(*courses, **info)"
      ],
      "metadata": {
        "colab": {
          "base_uri": "https://localhost:8080/"
        },
        "id": "9HXyy3FcflGv",
        "outputId": "571978d7-e7a7-4de4-b46e-3afc709aedd2"
      },
      "execution_count": 15,
      "outputs": [
        {
          "output_type": "stream",
          "name": "stdout",
          "text": [
            "('Math', 'Art')\n",
            "{'name': 'Anvar', 'age': 20}\n"
          ]
        }
      ]
    },
    {
      "cell_type": "code",
      "source": [
        "def is_odd(number):\n",
        "  if number % 2 != 0:\n",
        "    return '{} is odd number.'.format(number)\n",
        "  else:\n",
        "    print('This number is not odd')\n",
        "\n",
        "is_odd(17)"
      ],
      "metadata": {
        "colab": {
          "base_uri": "https://localhost:8080/",
          "height": 35
        },
        "id": "6G7NODyogAAE",
        "outputId": "1f276d5a-cdd2-44e0-9888-bb00e38a826c"
      },
      "execution_count": 20,
      "outputs": [
        {
          "output_type": "execute_result",
          "data": {
            "text/plain": [
              "'17 is odd number.'"
            ],
            "application/vnd.google.colaboratory.intrinsic+json": {
              "type": "string"
            }
          },
          "metadata": {},
          "execution_count": 20
        }
      ]
    }
  ]
}