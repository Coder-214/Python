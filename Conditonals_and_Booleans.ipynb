{
  "nbformat": 4,
  "nbformat_minor": 0,
  "metadata": {
    "colab": {
      "provenance": [],
      "authorship_tag": "ABX9TyMrmNbZLfeY8Nf/pxAMBctv",
      "include_colab_link": true
    },
    "kernelspec": {
      "name": "python3",
      "display_name": "Python 3"
    },
    "language_info": {
      "name": "python"
    }
  },
  "cells": [
    {
      "cell_type": "markdown",
      "metadata": {
        "id": "view-in-github",
        "colab_type": "text"
      },
      "source": [
        "<a href=\"https://colab.research.google.com/github/Coder-214/Python/blob/main/Conditonals_and_Booleans.ipynb\" target=\"_parent\"><img src=\"https://colab.research.google.com/assets/colab-badge.svg\" alt=\"Open In Colab\"/></a>"
      ]
    },
    {
      "cell_type": "code",
      "execution_count": 1,
      "metadata": {
        "colab": {
          "base_uri": "https://localhost:8080/"
        },
        "id": "qOETs3DZ6JVE",
        "outputId": "8a4a6327-ff27-4f2a-a1b0-06644dd802b2"
      },
      "outputs": [
        {
          "output_type": "stream",
          "name": "stdout",
          "text": [
            "Successfully\n"
          ]
        }
      ],
      "source": [
        "if True:\n",
        "  print('Successfully')"
      ]
    },
    {
      "cell_type": "code",
      "source": [
        "if False:\n",
        "  print('Successfully')"
      ],
      "metadata": {
        "id": "oDUBdtEW6kQM"
      },
      "execution_count": 2,
      "outputs": []
    },
    {
      "cell_type": "code",
      "source": [
        "language = \"Python\"\n",
        "\n",
        "if language == 'Python':\n",
        "  print('Language is Python')\n",
        "else:\n",
        "  print('Not match')"
      ],
      "metadata": {
        "colab": {
          "base_uri": "https://localhost:8080/"
        },
        "id": "SKMyZ8N06sOj",
        "outputId": "2a662665-da36-4120-9dc6-7905b9e3c803"
      },
      "execution_count": 3,
      "outputs": [
        {
          "output_type": "stream",
          "name": "stdout",
          "text": [
            "Language is Python\n"
          ]
        }
      ]
    },
    {
      "cell_type": "code",
      "source": [
        "language = \"Java\"\n",
        "\n",
        "if language == 'Java':\n",
        "  print('Language is Java')\n",
        "elif language == 'Python':\n",
        "  print('Language is Python')\n",
        "else:\n",
        "  print('Not match')"
      ],
      "metadata": {
        "colab": {
          "base_uri": "https://localhost:8080/"
        },
        "id": "qvcg-Znl8RhH",
        "outputId": "0950ca0f-b9fb-4a9a-85eb-a17f0dd25d61"
      },
      "execution_count": 4,
      "outputs": [
        {
          "output_type": "stream",
          "name": "stdout",
          "text": [
            "Language is Java\n"
          ]
        }
      ]
    },
    {
      "cell_type": "code",
      "source": [
        "login = 'Admin'\n",
        "password = True\n",
        "\n",
        "if login == 'Admin' and password:\n",
        "  print('Admin page')\n",
        "else:\n",
        "  print('Bad credentials')"
      ],
      "metadata": {
        "colab": {
          "base_uri": "https://localhost:8080/"
        },
        "id": "E2EA3bLo81ZT",
        "outputId": "4569cd23-ef56-4eff-f0de-0ea71486e49d"
      },
      "execution_count": 5,
      "outputs": [
        {
          "output_type": "stream",
          "name": "stdout",
          "text": [
            "Admin page\n"
          ]
        }
      ]
    },
    {
      "cell_type": "code",
      "source": [
        "if not password:\n",
        "  print('Please, log in')\n",
        "else:\n",
        "  print('Welcome')"
      ],
      "metadata": {
        "colab": {
          "base_uri": "https://localhost:8080/"
        },
        "id": "gJNeRnC99gox",
        "outputId": "4fe148cf-253e-4a03-875e-5122217eb196"
      },
      "execution_count": 6,
      "outputs": [
        {
          "output_type": "stream",
          "name": "stdout",
          "text": [
            "Welcome\n"
          ]
        }
      ]
    },
    {
      "cell_type": "markdown",
      "source": [
        "**is**"
      ],
      "metadata": {
        "id": "3yb2l3_f-L4Y"
      }
    },
    {
      "cell_type": "code",
      "source": [
        "a = [1, 2, 3]\n",
        "b = [1, 2, 3]"
      ],
      "metadata": {
        "colab": {
          "base_uri": "https://localhost:8080/"
        },
        "id": "bRTU_J-8-QmU",
        "outputId": "09b78856-b55e-4336-97bf-b9fcc1932b66"
      },
      "execution_count": 9,
      "outputs": [
        {
          "output_type": "execute_result",
          "data": {
            "text/plain": [
              "False"
            ]
          },
          "metadata": {},
          "execution_count": 9
        }
      ]
    },
    {
      "cell_type": "code",
      "source": [
        "a == b"
      ],
      "metadata": {
        "id": "d2llrxJ1-jO8"
      },
      "execution_count": null,
      "outputs": []
    },
    {
      "cell_type": "code",
      "source": [
        "a is b"
      ],
      "metadata": {
        "colab": {
          "base_uri": "https://localhost:8080/"
        },
        "id": "RMYREzfy-ltC",
        "outputId": "34aec6eb-3651-4230-f4b4-e2ad5bedda6e"
      },
      "execution_count": 10,
      "outputs": [
        {
          "output_type": "execute_result",
          "data": {
            "text/plain": [
              "False"
            ]
          },
          "metadata": {},
          "execution_count": 10
        }
      ]
    },
    {
      "cell_type": "code",
      "source": [
        "print(id(a))\n",
        "print(id(b))"
      ],
      "metadata": {
        "colab": {
          "base_uri": "https://localhost:8080/"
        },
        "id": "gzZEbJ14-oH3",
        "outputId": "fcd6d5fd-8adf-4a22-f9e5-48d420f217d1"
      },
      "execution_count": 12,
      "outputs": [
        {
          "output_type": "stream",
          "name": "stdout",
          "text": [
            "132729757851904\n",
            "132729758073728\n"
          ]
        }
      ]
    },
    {
      "cell_type": "code",
      "source": [
        "condition = False\n",
        "\n",
        "if condition:\n",
        "  print('Evaluated to True')\n",
        "else:\n",
        "  print('Evaluated to False')"
      ],
      "metadata": {
        "colab": {
          "base_uri": "https://localhost:8080/"
        },
        "id": "XgSdePeU_1Z-",
        "outputId": "db44fc25-cf92-4d41-e719-a96206076e29"
      },
      "execution_count": 13,
      "outputs": [
        {
          "output_type": "stream",
          "name": "stdout",
          "text": [
            "Evaluated to False\n"
          ]
        }
      ]
    },
    {
      "cell_type": "code",
      "source": [
        "condition = 0\n",
        "\n",
        "if condition:\n",
        "  print('Evaluated to True')\n",
        "else:\n",
        "  print('Evaluated to False')"
      ],
      "metadata": {
        "colab": {
          "base_uri": "https://localhost:8080/"
        },
        "id": "rkwK4N6wAJQg",
        "outputId": "1c11e0c1-7046-457c-d6d4-ee28fb1e09c3"
      },
      "execution_count": 14,
      "outputs": [
        {
          "output_type": "stream",
          "name": "stdout",
          "text": [
            "Evaluated to False\n"
          ]
        }
      ]
    },
    {
      "cell_type": "code",
      "source": [
        "condition = 5\n",
        "\n",
        "if condition:\n",
        "  print('Evaluated to True')\n",
        "else:\n",
        "  print('Evaluated to False')"
      ],
      "metadata": {
        "colab": {
          "base_uri": "https://localhost:8080/"
        },
        "id": "POo-3-ByAW1j",
        "outputId": "9abad50f-3b5d-4d94-e285-a44855a3edba"
      },
      "execution_count": 16,
      "outputs": [
        {
          "output_type": "stream",
          "name": "stdout",
          "text": [
            "Evaluated to True\n"
          ]
        }
      ]
    },
    {
      "cell_type": "code",
      "source": [
        "condition = None\n",
        "\n",
        "if condition:\n",
        "  print('Evaluated to True')\n",
        "else:\n",
        "  print('Evaluated to False')"
      ],
      "metadata": {
        "colab": {
          "base_uri": "https://localhost:8080/"
        },
        "id": "adqFXwv_AN_q",
        "outputId": "71613b77-a4a3-437a-e661-53109a8cf415"
      },
      "execution_count": 15,
      "outputs": [
        {
          "output_type": "stream",
          "name": "stdout",
          "text": [
            "Evaluated to False\n"
          ]
        }
      ]
    },
    {
      "cell_type": "code",
      "source": [
        "condition = ''\n",
        "\n",
        "if condition:\n",
        "  print('Evaluated to True')\n",
        "else:\n",
        "  print('Evaluated to False')"
      ],
      "metadata": {
        "colab": {
          "base_uri": "https://localhost:8080/"
        },
        "id": "kU8JGJ7zATZC",
        "outputId": "cadcb0f7-36ef-4110-87f6-159a18b2ac36"
      },
      "execution_count": 17,
      "outputs": [
        {
          "output_type": "stream",
          "name": "stdout",
          "text": [
            "Evaluated to False\n"
          ]
        }
      ]
    },
    {
      "cell_type": "code",
      "source": [
        "condition = ()\n",
        "\n",
        "if condition:\n",
        "  print('Evaluated to True')\n",
        "else:\n",
        "  print('Evaluated to False')"
      ],
      "metadata": {
        "colab": {
          "base_uri": "https://localhost:8080/"
        },
        "id": "AqaLzfRjAdGS",
        "outputId": "f92d7c35-74b9-490c-a6db-6f1e1ccf6997"
      },
      "execution_count": 18,
      "outputs": [
        {
          "output_type": "stream",
          "name": "stdout",
          "text": [
            "Evaluated to False\n"
          ]
        }
      ]
    },
    {
      "cell_type": "code",
      "source": [
        "condition = []\n",
        "\n",
        "if condition:\n",
        "  print('Evaluated to True')\n",
        "else:\n",
        "  print('Evaluated to False')"
      ],
      "metadata": {
        "colab": {
          "base_uri": "https://localhost:8080/"
        },
        "id": "Dt_LUUqYAf7g",
        "outputId": "d541fde0-78b5-43a5-9e53-e62b07f8f2ef"
      },
      "execution_count": 19,
      "outputs": [
        {
          "output_type": "stream",
          "name": "stdout",
          "text": [
            "Evaluated to False\n"
          ]
        }
      ]
    },
    {
      "cell_type": "code",
      "source": [
        "condition = {}\n",
        "\n",
        "if condition:\n",
        "  print('Evaluated to True')\n",
        "else:\n",
        "  print('Evaluated to False')"
      ],
      "metadata": {
        "colab": {
          "base_uri": "https://localhost:8080/"
        },
        "id": "WvSX9TV8AiXl",
        "outputId": "f8bcf2b7-3676-4dac-a702-6b890e6e241f"
      },
      "execution_count": 20,
      "outputs": [
        {
          "output_type": "stream",
          "name": "stdout",
          "text": [
            "Evaluated to False\n"
          ]
        }
      ]
    }
  ]
}