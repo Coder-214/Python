{
  "nbformat": 4,
  "nbformat_minor": 0,
  "metadata": {
    "colab": {
      "provenance": [],
      "toc_visible": true,
      "authorship_tag": "ABX9TyO6WV63g9opmRWxRKIaZ/7r",
      "include_colab_link": true
    },
    "kernelspec": {
      "name": "python3",
      "display_name": "Python 3"
    },
    "language_info": {
      "name": "python"
    }
  },
  "cells": [
    {
      "cell_type": "markdown",
      "metadata": {
        "id": "view-in-github",
        "colab_type": "text"
      },
      "source": [
        "<a href=\"https://colab.research.google.com/github/Coder-214/Python/blob/main/List_Tuple_Set.ipynb\" target=\"_parent\"><img src=\"https://colab.research.google.com/assets/colab-badge.svg\" alt=\"Open In Colab\"/></a>"
      ]
    },
    {
      "cell_type": "code",
      "execution_count": null,
      "metadata": {
        "colab": {
          "base_uri": "https://localhost:8080/"
        },
        "id": "U6qoMrjQoygo",
        "outputId": "db0ce0f2-2bb1-4e7f-9336-7a17228c9394"
      },
      "outputs": [
        {
          "output_type": "execute_result",
          "data": {
            "text/plain": [
              "['Math', 'Biology', 'History', 'Physics']"
            ]
          },
          "metadata": {},
          "execution_count": 1
        }
      ],
      "source": [
        "courses = [\"Math\", \"Biology\", \"History\", 'Physics']\n",
        "courses"
      ]
    },
    {
      "cell_type": "code",
      "source": [
        "courses[1]"
      ],
      "metadata": {
        "colab": {
          "base_uri": "https://localhost:8080/",
          "height": 35
        },
        "id": "3vqT37--pbKf",
        "outputId": "cad490be-0ff2-4a60-f311-6bd0cac491cd"
      },
      "execution_count": null,
      "outputs": [
        {
          "output_type": "execute_result",
          "data": {
            "text/plain": [
              "'Biology'"
            ],
            "application/vnd.google.colaboratory.intrinsic+json": {
              "type": "string"
            }
          },
          "metadata": {},
          "execution_count": 2
        }
      ]
    },
    {
      "cell_type": "code",
      "source": [
        "courses[0:2]"
      ],
      "metadata": {
        "colab": {
          "base_uri": "https://localhost:8080/"
        },
        "id": "Yn_2cXclphFs",
        "outputId": "dd070918-615a-4fe7-900b-afe7c6c4cb4a"
      },
      "execution_count": null,
      "outputs": [
        {
          "output_type": "execute_result",
          "data": {
            "text/plain": [
              "['Math', 'Biology']"
            ]
          },
          "metadata": {},
          "execution_count": 3
        }
      ]
    },
    {
      "cell_type": "code",
      "source": [
        "courses[:2]"
      ],
      "metadata": {
        "colab": {
          "base_uri": "https://localhost:8080/"
        },
        "id": "eY-wFU6cpmjI",
        "outputId": "f9b39d2b-10a7-4f8c-bac3-4c83867afac3"
      },
      "execution_count": null,
      "outputs": [
        {
          "output_type": "execute_result",
          "data": {
            "text/plain": [
              "['Math', 'Biology']"
            ]
          },
          "metadata": {},
          "execution_count": 4
        }
      ]
    },
    {
      "cell_type": "code",
      "source": [
        "courses[2:]"
      ],
      "metadata": {
        "colab": {
          "base_uri": "https://localhost:8080/"
        },
        "id": "YMNBry1upwAX",
        "outputId": "58a4e55e-fe1e-4561-dde6-1b07c9802622"
      },
      "execution_count": null,
      "outputs": [
        {
          "output_type": "execute_result",
          "data": {
            "text/plain": [
              "['History', 'Physics']"
            ]
          },
          "metadata": {},
          "execution_count": 5
        }
      ]
    },
    {
      "cell_type": "code",
      "source": [
        "courses_2 = [\"Chemistry\", \"Literature\"]"
      ],
      "metadata": {
        "id": "jUTJe_pUp0qp"
      },
      "execution_count": null,
      "outputs": []
    },
    {
      "cell_type": "markdown",
      "source": [
        "**Appending, extending, inserting**"
      ],
      "metadata": {
        "id": "hkRzPmEHtOHY"
      }
    },
    {
      "cell_type": "code",
      "source": [
        "courses.append(courses_2)\n",
        "courses"
      ],
      "metadata": {
        "colab": {
          "base_uri": "https://localhost:8080/"
        },
        "id": "Qpe6AoY2qCfH",
        "outputId": "fc0079a4-bdc9-4ef5-f7f2-c576175c86bc"
      },
      "execution_count": null,
      "outputs": [
        {
          "output_type": "execute_result",
          "data": {
            "text/plain": [
              "['Math', 'Biology', 'History', 'Physics', ['Chemistry', 'Literature']]"
            ]
          },
          "metadata": {},
          "execution_count": 7
        }
      ]
    },
    {
      "cell_type": "code",
      "source": [
        "courses.insert(0, courses_2)\n",
        "courses"
      ],
      "metadata": {
        "colab": {
          "base_uri": "https://localhost:8080/"
        },
        "id": "MkR_nP94qRIw",
        "outputId": "e6e4d1d1-5a0e-42bc-99d2-7544130515e3"
      },
      "execution_count": null,
      "outputs": [
        {
          "output_type": "execute_result",
          "data": {
            "text/plain": [
              "[['Chemistry', 'Literature'],\n",
              " 'Math',\n",
              " 'Biology',\n",
              " 'History',\n",
              " 'Physics',\n",
              " ['Chemistry', 'Literature']]"
            ]
          },
          "metadata": {},
          "execution_count": 8
        }
      ]
    },
    {
      "cell_type": "code",
      "source": [
        "courses.extend(courses_2)\n",
        "courses"
      ],
      "metadata": {
        "colab": {
          "base_uri": "https://localhost:8080/"
        },
        "id": "GKU-4fvrsNL1",
        "outputId": "a61a17bb-0fb6-4647-9457-6399158b250a"
      },
      "execution_count": null,
      "outputs": [
        {
          "output_type": "execute_result",
          "data": {
            "text/plain": [
              "['Physics',\n",
              " 'History',\n",
              " 'Biology',\n",
              " ['Chemistry', 'Literature'],\n",
              " 'Chemistry',\n",
              " 'Literature']"
            ]
          },
          "metadata": {},
          "execution_count": 14
        }
      ]
    },
    {
      "cell_type": "markdown",
      "source": [
        "**Removing, poping**"
      ],
      "metadata": {
        "id": "CoZ2mWTGtfri"
      }
    },
    {
      "cell_type": "code",
      "source": [
        "courses.remove(\"Math\")\n",
        "courses"
      ],
      "metadata": {
        "colab": {
          "base_uri": "https://localhost:8080/"
        },
        "id": "T9oAYb08rULC",
        "outputId": "3e296a9f-5418-416a-c50d-11be572681b4"
      },
      "execution_count": null,
      "outputs": [
        {
          "output_type": "execute_result",
          "data": {
            "text/plain": [
              "[['Chemistry', 'Literature'],\n",
              " 'Biology',\n",
              " 'History',\n",
              " 'Physics',\n",
              " ['Chemistry', 'Literature']]"
            ]
          },
          "metadata": {},
          "execution_count": 11
        }
      ]
    },
    {
      "cell_type": "code",
      "source": [
        "courses.pop()\n",
        "courses"
      ],
      "metadata": {
        "colab": {
          "base_uri": "https://localhost:8080/"
        },
        "id": "M4QzD7Sfrrp2",
        "outputId": "bc44aefc-33f9-42e1-d3c1-3e00fb67caa7"
      },
      "execution_count": null,
      "outputs": [
        {
          "output_type": "execute_result",
          "data": {
            "text/plain": [
              "[['Chemistry', 'Literature'], 'Biology', 'History', 'Physics']"
            ]
          },
          "metadata": {},
          "execution_count": 12
        }
      ]
    },
    {
      "cell_type": "markdown",
      "source": [
        "**Sorting**"
      ],
      "metadata": {
        "id": "jv-O5PxLtpUU"
      }
    },
    {
      "cell_type": "code",
      "source": [
        "courses.reverse()\n",
        "courses"
      ],
      "metadata": {
        "colab": {
          "base_uri": "https://localhost:8080/"
        },
        "id": "B6AZlhCEr6oh",
        "outputId": "1daecbcd-e425-459e-cb9f-9247e0d43d9b"
      },
      "execution_count": null,
      "outputs": [
        {
          "output_type": "execute_result",
          "data": {
            "text/plain": [
              "['Physics', 'History', 'Biology', ['Chemistry', 'Literature']]"
            ]
          },
          "metadata": {},
          "execution_count": 13
        }
      ]
    },
    {
      "cell_type": "code",
      "source": [
        "courses.sort()\n",
        "courses"
      ],
      "metadata": {
        "colab": {
          "base_uri": "https://localhost:8080/"
        },
        "id": "BFVhJDkvsZFs",
        "outputId": "777d5478-fc01-4215-afd9-ebfb15475468"
      },
      "execution_count": null,
      "outputs": [
        {
          "output_type": "execute_result",
          "data": {
            "text/plain": [
              "['Biology', 'History', 'Math', 'Physics']"
            ]
          },
          "metadata": {},
          "execution_count": 3
        }
      ]
    },
    {
      "cell_type": "code",
      "source": [
        "courses.sort(reverse=True)\n",
        "courses"
      ],
      "metadata": {
        "colab": {
          "base_uri": "https://localhost:8080/"
        },
        "id": "AsQGWr0xs9Z2",
        "outputId": "c2c49a85-ebee-4c45-bf22-ccbc19ddf256"
      },
      "execution_count": null,
      "outputs": [
        {
          "output_type": "execute_result",
          "data": {
            "text/plain": [
              "['Physics', 'Math', 'History', 'Biology']"
            ]
          },
          "metadata": {},
          "execution_count": 4
        }
      ]
    },
    {
      "cell_type": "markdown",
      "source": [
        "**Finding by index**"
      ],
      "metadata": {
        "id": "qU2Z_uNFuACP"
      }
    },
    {
      "cell_type": "code",
      "source": [
        "courses.index('Math')"
      ],
      "metadata": {
        "colab": {
          "base_uri": "https://localhost:8080/"
        },
        "id": "fFcodX47t9aV",
        "outputId": "c25846f7-7ff0-4cba-fdab-da8e676c5bdf"
      },
      "execution_count": null,
      "outputs": [
        {
          "output_type": "execute_result",
          "data": {
            "text/plain": [
              "1"
            ]
          },
          "metadata": {},
          "execution_count": 5
        }
      ]
    },
    {
      "cell_type": "markdown",
      "source": [
        "**Get item by looping**"
      ],
      "metadata": {
        "id": "J65wOCY3urCa"
      }
    },
    {
      "cell_type": "code",
      "source": [
        "for course in courses:\n",
        "  print(course)"
      ],
      "metadata": {
        "colab": {
          "base_uri": "https://localhost:8080/"
        },
        "id": "ZOOa6qAquwBp",
        "outputId": "6cf209ef-3027-4ca8-bc56-9d59bd344203"
      },
      "execution_count": null,
      "outputs": [
        {
          "output_type": "stream",
          "name": "stdout",
          "text": [
            "Physics\n",
            "Math\n",
            "History\n",
            "Biology\n"
          ]
        }
      ]
    },
    {
      "cell_type": "markdown",
      "source": [
        "**Enumerate**"
      ],
      "metadata": {
        "id": "NiOIMZcuvd3c"
      }
    },
    {
      "cell_type": "code",
      "source": [
        "for index, course in enumerate(courses):\n",
        "  print(index, course)"
      ],
      "metadata": {
        "colab": {
          "base_uri": "https://localhost:8080/"
        },
        "id": "7c3Z0_vhvirF",
        "outputId": "2db3ee06-5d58-4ec2-fc2d-500ce990c345"
      },
      "execution_count": null,
      "outputs": [
        {
          "output_type": "stream",
          "name": "stdout",
          "text": [
            "0 Physics\n",
            "1 Math\n",
            "2 History\n",
            "3 Biology\n"
          ]
        }
      ]
    },
    {
      "cell_type": "code",
      "source": [
        "for index, course in enumerate(courses, start=1):\n",
        "  print(index, course)"
      ],
      "metadata": {
        "colab": {
          "base_uri": "https://localhost:8080/"
        },
        "id": "CsMli-nyvybT",
        "outputId": "8df61da7-4a40-495b-f3d0-4ac6e0fba005"
      },
      "execution_count": null,
      "outputs": [
        {
          "output_type": "stream",
          "name": "stdout",
          "text": [
            "1 Physics\n",
            "2 Math\n",
            "3 History\n",
            "4 Biology\n"
          ]
        }
      ]
    },
    {
      "cell_type": "markdown",
      "source": [
        "**Joining items**"
      ],
      "metadata": {
        "id": "Kxa1VCChwZ73"
      }
    },
    {
      "cell_type": "code",
      "source": [
        "course_str = ', '.join(courses)\n",
        "course_str"
      ],
      "metadata": {
        "colab": {
          "base_uri": "https://localhost:8080/",
          "height": 35
        },
        "id": "BKf1cxmiwdVM",
        "outputId": "ddf1dd4c-0d61-41d8-91aa-2df73663305f"
      },
      "execution_count": null,
      "outputs": [
        {
          "output_type": "execute_result",
          "data": {
            "text/plain": [
              "'Physics, Math, History, Biology'"
            ],
            "application/vnd.google.colaboratory.intrinsic+json": {
              "type": "string"
            }
          },
          "metadata": {},
          "execution_count": 9
        }
      ]
    },
    {
      "cell_type": "code",
      "source": [
        "course_str = ' -- '.join(courses)\n",
        "course_str"
      ],
      "metadata": {
        "colab": {
          "base_uri": "https://localhost:8080/",
          "height": 35
        },
        "id": "xTG3QTwBwwvy",
        "outputId": "ff12bc00-9d15-472f-908a-1ddb8d5f94e0"
      },
      "execution_count": null,
      "outputs": [
        {
          "output_type": "execute_result",
          "data": {
            "text/plain": [
              "'Physics -- Math -- History -- Biology'"
            ],
            "application/vnd.google.colaboratory.intrinsic+json": {
              "type": "string"
            }
          },
          "metadata": {},
          "execution_count": 10
        }
      ]
    },
    {
      "cell_type": "markdown",
      "source": [
        "**Split**"
      ],
      "metadata": {
        "id": "ou-U5oc2xM1_"
      }
    },
    {
      "cell_type": "code",
      "source": [
        "new_list = course_str.split(' -- ')\n",
        "new_list"
      ],
      "metadata": {
        "colab": {
          "base_uri": "https://localhost:8080/"
        },
        "id": "kcJCZIh1xKS2",
        "outputId": "b0753110-ada4-43c9-c19b-a47d12236771"
      },
      "execution_count": null,
      "outputs": [
        {
          "output_type": "execute_result",
          "data": {
            "text/plain": [
              "['Physics', 'Math', 'History', 'Biology']"
            ]
          },
          "metadata": {},
          "execution_count": 11
        }
      ]
    },
    {
      "cell_type": "markdown",
      "source": [
        "\\# New Section"
      ],
      "metadata": {
        "id": "tlpEZhq-2Gc1"
      }
    },
    {
      "cell_type": "markdown",
      "source": [
        "# New Section"
      ],
      "metadata": {
        "id": "rJPY1Z762UhJ"
      }
    }
  ]
}