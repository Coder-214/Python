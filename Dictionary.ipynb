{
  "nbformat": 4,
  "nbformat_minor": 0,
  "metadata": {
    "colab": {
      "provenance": [],
      "authorship_tag": "ABX9TyPMXdHIUOnFV78F5Z0jXkB+",
      "include_colab_link": true
    },
    "kernelspec": {
      "name": "python3",
      "display_name": "Python 3"
    },
    "language_info": {
      "name": "python"
    }
  },
  "cells": [
    {
      "cell_type": "markdown",
      "metadata": {
        "id": "view-in-github",
        "colab_type": "text"
      },
      "source": [
        "<a href=\"https://colab.research.google.com/github/Coder-214/Python/blob/main/Dictionary.ipynb\" target=\"_parent\"><img src=\"https://colab.research.google.com/assets/colab-badge.svg\" alt=\"Open In Colab\"/></a>"
      ]
    },
    {
      "cell_type": "code",
      "execution_count": null,
      "metadata": {
        "colab": {
          "base_uri": "https://localhost:8080/"
        },
        "id": "m2xEdA7ivVod",
        "outputId": "ede9fb51-cf9b-4a10-a0a5-ddfb06e98736"
      },
      "outputs": [
        {
          "output_type": "execute_result",
          "data": {
            "text/plain": [
              "{'name': 'John', 'age': 25, 'courses': ['Math', 'English']}"
            ]
          },
          "metadata": {},
          "execution_count": 1
        }
      ],
      "source": [
        "students = {\"name\": \"John\", \"age\": 25, \"courses\": [\"Math\", \"English\"]}\n",
        "students"
      ]
    },
    {
      "cell_type": "markdown",
      "source": [
        "**Get value using key**"
      ],
      "metadata": {
        "id": "oFWZlDC5zYBn"
      }
    },
    {
      "cell_type": "code",
      "source": [
        "students[\"name\"]"
      ],
      "metadata": {
        "colab": {
          "base_uri": "https://localhost:8080/",
          "height": 35
        },
        "id": "KwG0Nhdwwrdu",
        "outputId": "b24f5a7c-b39f-4376-b06c-4c039d2d665e"
      },
      "execution_count": null,
      "outputs": [
        {
          "output_type": "execute_result",
          "data": {
            "text/plain": [
              "'John'"
            ],
            "application/vnd.google.colaboratory.intrinsic+json": {
              "type": "string"
            }
          },
          "metadata": {},
          "execution_count": 3
        }
      ]
    },
    {
      "cell_type": "code",
      "source": [
        "students.get(\"name\")"
      ],
      "metadata": {
        "colab": {
          "base_uri": "https://localhost:8080/",
          "height": 35
        },
        "id": "76qaKwKtxDO_",
        "outputId": "59f120fb-2630-4a34-a442-5ba25485b5a7"
      },
      "execution_count": null,
      "outputs": [
        {
          "output_type": "execute_result",
          "data": {
            "text/plain": [
              "'John'"
            ],
            "application/vnd.google.colaboratory.intrinsic+json": {
              "type": "string"
            }
          },
          "metadata": {},
          "execution_count": 4
        }
      ]
    },
    {
      "cell_type": "code",
      "source": [
        "students.get(\"phone_number\", \"Not found\")"
      ],
      "metadata": {
        "colab": {
          "base_uri": "https://localhost:8080/",
          "height": 35
        },
        "id": "PWJAT6cuxUEU",
        "outputId": "18684c28-7b78-4399-f4dd-85da9004d3cb"
      },
      "execution_count": null,
      "outputs": [
        {
          "output_type": "execute_result",
          "data": {
            "text/plain": [
              "'12233431'"
            ],
            "application/vnd.google.colaboratory.intrinsic+json": {
              "type": "string"
            }
          },
          "metadata": {},
          "execution_count": 8
        }
      ]
    },
    {
      "cell_type": "markdown",
      "source": [
        "**Adding new key and value**"
      ],
      "metadata": {
        "id": "whBwzRy7zdrh"
      }
    },
    {
      "cell_type": "code",
      "source": [
        "students[\"phone_number\"] = '12233431'"
      ],
      "metadata": {
        "id": "d9oav99Oyc3k"
      },
      "execution_count": null,
      "outputs": []
    },
    {
      "cell_type": "markdown",
      "source": [
        "**Updating**"
      ],
      "metadata": {
        "id": "La361xER0j1H"
      }
    },
    {
      "cell_type": "code",
      "source": [
        "students.update({\"name\": \"Stive\", \"age\": 32})\n",
        "students"
      ],
      "metadata": {
        "colab": {
          "base_uri": "https://localhost:8080/"
        },
        "id": "8N_mH3AozNw6",
        "outputId": "f8cf3d52-b284-4a22-d94c-621d85bb8c13"
      },
      "execution_count": null,
      "outputs": [
        {
          "output_type": "execute_result",
          "data": {
            "text/plain": [
              "{'name': 'Stive', 'age': 32, 'courses': ['Math', 'English']}"
            ]
          },
          "metadata": {},
          "execution_count": 3
        }
      ]
    },
    {
      "cell_type": "markdown",
      "source": [
        "**Deleting**"
      ],
      "metadata": {
        "id": "PPJb7yMN0uZn"
      }
    },
    {
      "cell_type": "code",
      "source": [
        "del students[\"phone_number\"]\n",
        "students"
      ],
      "metadata": {
        "colab": {
          "base_uri": "https://localhost:8080/"
        },
        "id": "RsejrFnb039n",
        "outputId": "3054766a-c167-4c6e-bde4-4b2f1c94e3a7"
      },
      "execution_count": null,
      "outputs": [
        {
          "output_type": "execute_result",
          "data": {
            "text/plain": [
              "{'name': 'Stive', 'age': 32, 'courses': ['Math', 'English']}"
            ]
          },
          "metadata": {},
          "execution_count": 6
        }
      ]
    },
    {
      "cell_type": "code",
      "source": [
        "age = students.pop(\"age\")\n",
        "age"
      ],
      "metadata": {
        "colab": {
          "base_uri": "https://localhost:8080/"
        },
        "id": "vI7uAbfV1E9j",
        "outputId": "da019336-8138-450f-edc3-f82dc6a7554d"
      },
      "execution_count": null,
      "outputs": [
        {
          "output_type": "execute_result",
          "data": {
            "text/plain": [
              "32"
            ]
          },
          "metadata": {},
          "execution_count": 7
        }
      ]
    },
    {
      "cell_type": "markdown",
      "source": [
        "**Length**"
      ],
      "metadata": {
        "id": "V5HYA0E51aGA"
      }
    },
    {
      "cell_type": "code",
      "source": [
        "len(students)"
      ],
      "metadata": {
        "colab": {
          "base_uri": "https://localhost:8080/"
        },
        "id": "ORI7Gdbd1diW",
        "outputId": "cbf51965-87f2-4a01-85c1-f69899dac0ab"
      },
      "execution_count": null,
      "outputs": [
        {
          "output_type": "execute_result",
          "data": {
            "text/plain": [
              "2"
            ]
          },
          "metadata": {},
          "execution_count": 8
        }
      ]
    },
    {
      "cell_type": "markdown",
      "source": [
        "**Key**"
      ],
      "metadata": {
        "id": "ITqrxwCf1nuR"
      }
    },
    {
      "cell_type": "code",
      "source": [
        "students.keys()"
      ],
      "metadata": {
        "colab": {
          "base_uri": "https://localhost:8080/"
        },
        "id": "NsNXfWAg1rGl",
        "outputId": "a206508c-74fa-481c-b999-1409ff619aa0"
      },
      "execution_count": null,
      "outputs": [
        {
          "output_type": "execute_result",
          "data": {
            "text/plain": [
              "dict_keys(['name', 'courses'])"
            ]
          },
          "metadata": {},
          "execution_count": 9
        }
      ]
    },
    {
      "cell_type": "markdown",
      "source": [
        "**Value**"
      ],
      "metadata": {
        "id": "OyYUVNkk1y7Z"
      }
    },
    {
      "cell_type": "code",
      "source": [
        "students.values()"
      ],
      "metadata": {
        "colab": {
          "base_uri": "https://localhost:8080/"
        },
        "id": "-EINyoWa11Z4",
        "outputId": "20f9da54-efb0-48ad-d112-9fe7e96e836a"
      },
      "execution_count": null,
      "outputs": [
        {
          "output_type": "execute_result",
          "data": {
            "text/plain": [
              "dict_values(['Stive', ['Math', 'English']])"
            ]
          },
          "metadata": {},
          "execution_count": 10
        }
      ]
    },
    {
      "cell_type": "markdown",
      "source": [
        "**Item**"
      ],
      "metadata": {
        "id": "5v3wsOwJ1_ek"
      }
    },
    {
      "cell_type": "code",
      "source": [
        "students.items()"
      ],
      "metadata": {
        "colab": {
          "base_uri": "https://localhost:8080/"
        },
        "id": "ABHat2u02Bsw",
        "outputId": "416eb50c-197f-4d18-8521-b324cc07e113"
      },
      "execution_count": null,
      "outputs": [
        {
          "output_type": "execute_result",
          "data": {
            "text/plain": [
              "dict_items([('name', 'Stive'), ('courses', ['Math', 'English'])])"
            ]
          },
          "metadata": {},
          "execution_count": 11
        }
      ]
    },
    {
      "cell_type": "markdown",
      "source": [
        "**Loop**"
      ],
      "metadata": {
        "id": "djH0fm8R2XC4"
      }
    },
    {
      "cell_type": "code",
      "source": [
        "for key in students:\n",
        "  print(key)"
      ],
      "metadata": {
        "colab": {
          "base_uri": "https://localhost:8080/"
        },
        "id": "6u6hXnsp2Zl9",
        "outputId": "982de933-e9ec-4552-84a0-60ab404a8e61"
      },
      "execution_count": null,
      "outputs": [
        {
          "output_type": "stream",
          "name": "stdout",
          "text": [
            "name\n",
            "courses\n"
          ]
        }
      ]
    },
    {
      "cell_type": "code",
      "source": [
        "for key, value in students.items():\n",
        "  print(key, value)"
      ],
      "metadata": {
        "colab": {
          "base_uri": "https://localhost:8080/"
        },
        "id": "RFMs_I6s2gj1",
        "outputId": "2fc9c1b7-d0c7-424e-f345-9b822dddd6ae"
      },
      "execution_count": null,
      "outputs": [
        {
          "output_type": "stream",
          "name": "stdout",
          "text": [
            "name Stive\n",
            "courses ['Math', 'English']\n"
          ]
        }
      ]
    }
  ]
}